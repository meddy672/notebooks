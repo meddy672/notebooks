{
 "cells": [
  {
   "cell_type": "markdown",
   "id": "a1fe37ec-05bf-4b71-8401-cf70323adceb",
   "metadata": {},
   "source": [
    "[![Notebook](https://static.anaconda.cloud/content/a22d04e8445b700f28937ab3231b8cded505d0395c63b7a269696722196d5415)](https://anaconda.cloud/api/nbserve/launch_notebook?nb_url=https%3A%2F%2Fanaconda.cloud%2Fapi%2Fprojects%2F99c75f6f-ae14-40bf-ae18-93454148a22d%2Fversions%2F57daf3ed-765d-45ae-bc3c-f82c1d3e7253%2Ffiles%2FPythonTutorial.ipynb)"
   ]
  },
  {
   "cell_type": "markdown",
   "id": "a749fe51-6e1c-4659-84b3-448241ce1896",
   "metadata": {},
   "source": [
    "# Python - Pandas, Documents, & JSON"
   ]
  },
  {
   "cell_type": "markdown",
   "id": "e97bfad6-eba9-46f7-952f-de5b4df18fcc",
   "metadata": {},
   "source": [
    "Python is a versatile programming language known for its simplicity and readability. It offers a wide range of libraries and tools for various tasks, making it a popular choice for data processing, web development, automation, and more. In this introduction, we'll explore how to work with CSV files, documents, and JSON in Python."
   ]
  },
  {
   "cell_type": "markdown",
   "id": "f9b689de-ecde-48a6-87d4-497df2363f68",
   "metadata": {},
   "source": [
    "## Working With CSV Files - Pandas"
   ]
  },
  {
   "cell_type": "markdown",
   "id": "40dd6a9d-a502-4506-aa50-1283bbe3f223",
   "metadata": {},
   "source": [
    "Python Pandas is an open-source data analysis and manipulation library built on top of the Python programming language. It provides easy-to-use data structures and functions for efficiently working with structured data, such as tables or spreadsheets."
   ]
  },
  {
   "cell_type": "markdown",
   "id": "9b9f1230-034d-4ac6-9a5d-d27395df08aa",
   "metadata": {},
   "source": [
    "This creates a file **top_songs_1990s.csv** in the root directory."
   ]
  },
  {
   "cell_type": "code",
   "execution_count": null,
   "id": "275cbdfb-509f-4031-b21a-6df0c6ac9733",
   "metadata": {},
   "outputs": [],
   "source": [
    "import pandas as pd\n",
    "import matplotlib.pyplot as plt\n",
    "\n",
    "# top_songs_1990s_data\n",
    "top_songs_1990s = [\n",
    "    {\"Title\": \"Smells Like Teen Spirit\", \"Artist\": \"Nirvana\", \"Year\": 1991},\n",
    "    {\"Title\": \"Wonderwall\", \"Artist\": \"Oasis\", \"Year\": 1995},\n",
    "    {\"Title\": \"I Will Always Love You\", \"Artist\": \"Whitney Houston\", \"Year\": 1992},\n",
    "    {\"Title\": \"Losing My Religion\", \"Artist\": \"R.E.M.\", \"Year\": 1991},\n",
    "    {\"Title\": \"Creep\", \"Artist\": \"Radiohead\", \"Year\": 1992},\n",
    "    {\"Title\": \"Unfinished Sympathy\", \"Artist\": \"Massive Attack\", \"Year\": 1991},\n",
    "    {\"Title\": \"Waterfalls\", \"Artist\": \"TLC\", \"Year\": 1995},\n",
    "    {\"Title\": \"Nothing Compares 2 U\", \"Artist\": \"Sinead O'Connor\", \"Year\": 1990},\n",
    "    {\"Title\": \"Vogue\", \"Artist\": \"Madonna\", \"Year\": 1990},\n",
    "    {\"Title\": \"One\", \"Artist\": \"U2\", \"Year\": 1991},\n",
    "    {\"Title\": \"Gangsta's Paradise\", \"Artist\": \"Coolio\", \"Year\": 1995},\n",
    "    {\"Title\": \"Tears in Heaven\", \"Artist\": \"Eric Clapton\", \"Year\": 1992},\n",
    "    {\"Title\": \"Black Hole Sun\", \"Artist\": \"Soundgarden\", \"Year\": 1994},\n",
    "    {\"Title\": \"Don't Speak\", \"Artist\": \"No Doubt\", \"Year\": 1996},\n",
    "    {\"Title\": \"Ironic\", \"Artist\": \"Alanis Morissette\", \"Year\": 1995},\n",
    "    {\"Title\": \"Wannabe\", \"Artist\": \"Spice Girls\", \"Year\": 1996},\n",
    "]\n",
    "\n",
    "# Convert the list of dictionaries into a DataFrame\n",
    "df = pd.DataFrame(top_songs_1990s)\n",
    "\n",
    "# Save the DataFrame to a CSV file\n",
    "df.to_csv(\"top_songs_1990s.csv\", index=False)\n",
    "\n",
    "print(\"CSV file created successfully.\")"
   ]
  },
  {
   "cell_type": "markdown",
   "id": "c74e72b4-872a-4036-9ea3-716a6826fa4a",
   "metadata": {},
   "source": [
    "### Displaying CSV Data - Top Songs of 1990s"
   ]
  },
  {
   "cell_type": "markdown",
   "id": "bb20e376-1773-4145-94e1-0cb7c0cdd262",
   "metadata": {},
   "source": [
    "You can use the `.read_csv` method to read the csv data of the **top_songs_1990s.csv** and print the result to the console."
   ]
  },
  {
   "cell_type": "code",
   "execution_count": 53,
   "id": "e1a66cc4-bc2d-4742-829e-45524385539d",
   "metadata": {},
   "outputs": [
    {
     "name": "stdout",
     "output_type": "stream",
     "text": [
      "                  Title            Artist            Year\n",
      "Smells Like Teen Spirit           Nirvana            1991\n",
      "             Wonderwall             Oasis            1995\n",
      " I Will Always Love You   Whitney Houston            1992\n",
      "     Losing My Religion            R.E.M.            1991\n",
      "                  Creep         Radiohead            1992\n",
      "    Unfinished Sympathy    Massive Attack            1991\n",
      "             Waterfalls               TLC            1995\n",
      "   Nothing Compares 2 U   Sinead O'Connor            1990\n",
      "                  Vogue           Madonna            1990\n",
      "                    One                U2            1991\n",
      "     Gangsta's Paradise            Coolio            1995\n",
      "        Tears in Heaven      Eric Clapton            1992\n",
      "         Black Hole Sun       Soundgarden            1994\n",
      "            Don't Speak          No Doubt            1996\n",
      "                 Ironic Alanis Morissette            1995\n",
      "                Wannabe       Spice Girls            1996\n"
     ]
    }
   ],
   "source": [
    "# Read the CSV file into a DataFrame\n",
    "import pandas as pd\n",
    "\n",
    "top_songs_table = pd.read_csv('top_songs_1990s.csv')\n",
    "\n",
    "# Display the DataFrame\n",
    "print(df.to_string(index=False, col_space=15))"
   ]
  },
  {
   "cell_type": "markdown",
   "id": "05a22c0e-b382-4b02-b8e1-75bbf0cbba9b",
   "metadata": {},
   "source": [
    "### Sorting Songs Year"
   ]
  },
  {
   "cell_type": "markdown",
   "id": "e8453700-c81e-434c-8bf5-45fde98fa7a6",
   "metadata": {},
   "source": [
    "If you want to sort by year use the `.sort_values` method on the **top_songs_table** object."
   ]
  },
  {
   "cell_type": "code",
   "execution_count": 55,
   "id": "47ae263a-d0dd-419c-ae2b-a367e6900a40",
   "metadata": {},
   "outputs": [
    {
     "name": "stdout",
     "output_type": "stream",
     "text": [
      "                  Title            Artist            Year\n",
      "            Don't Speak          No Doubt            1996\n",
      "                Wannabe       Spice Girls            1996\n",
      "             Wonderwall             Oasis            1995\n",
      "             Waterfalls               TLC            1995\n",
      "     Gangsta's Paradise            Coolio            1995\n",
      "                 Ironic Alanis Morissette            1995\n",
      "         Black Hole Sun       Soundgarden            1994\n",
      " I Will Always Love You   Whitney Houston            1992\n",
      "                  Creep         Radiohead            1992\n",
      "        Tears in Heaven      Eric Clapton            1992\n",
      "Smells Like Teen Spirit           Nirvana            1991\n",
      "     Losing My Religion            R.E.M.            1991\n",
      "    Unfinished Sympathy    Massive Attack            1991\n",
      "                    One                U2            1991\n",
      "   Nothing Compares 2 U   Sinead O'Connor            1990\n",
      "                  Vogue           Madonna            1990\n"
     ]
    }
   ],
   "source": [
    "songs_sorted_by_year = top_songs_table.sort_values(by='Year', ascending=False)\n",
    "\n",
    "df = pd.DataFrame(songs_sorted_by_year)\n",
    "\n",
    "print(df.to_string(index=False, col_space=15))"
   ]
  },
  {
   "cell_type": "markdown",
   "id": "945280a2-66b8-446d-8ed9-18e6acc97dd2",
   "metadata": {},
   "source": [
    "### Sorting Songs After 1995"
   ]
  },
  {
   "cell_type": "markdown",
   "id": "bf535f47-96c0-4b46-93ef-a4e4de784555",
   "metadata": {},
   "source": [
    "Another approach to filter the **top_songs_table** by songs after the year 1995."
   ]
  },
  {
   "cell_type": "code",
   "execution_count": 57,
   "id": "70a07290-6a99-43f1-854a-53f5f5f1bba5",
   "metadata": {},
   "outputs": [
    {
     "name": "stdout",
     "output_type": "stream",
     "text": [
      "          Title          Artist            Year\n",
      "    Don't Speak        No Doubt            1996\n",
      "        Wannabe     Spice Girls            1996\n"
     ]
    }
   ],
   "source": [
    "songs_after_1995 = top_songs_table[top_songs_table['Year'] > 1995]\n",
    "\n",
    "df = pd.DataFrame(songs_after_1995)\n",
    "\n",
    "print(df.to_string(index=False, col_space=15))"
   ]
  },
  {
   "cell_type": "markdown",
   "id": "d88ee917-4170-4c7d-9e0d-863e8d16e71a",
   "metadata": {},
   "source": [
    "### Counting Number of Songs By Artist"
   ]
  },
  {
   "cell_type": "markdown",
   "id": "b10e7df2-7b72-4e69-a851-fe2bd753d26e",
   "metadata": {},
   "source": [
    "Counting the number of songs for each artist."
   ]
  },
  {
   "cell_type": "code",
   "execution_count": null,
   "id": "b90a6205-5f20-4ed2-b615-839a32011bd6",
   "metadata": {},
   "outputs": [],
   "source": [
    "songs_by_artist = top_songs_table.groupby('Artist').size().sort_values(ascending=False)\n",
    "\n",
    "print(songs_by_artist)"
   ]
  },
  {
   "cell_type": "markdown",
   "id": "d3cb26f3-1dae-474c-936e-1cac04fe9265",
   "metadata": {},
   "source": [
    "### Average Release Year of Songs in 1990s"
   ]
  },
  {
   "cell_type": "markdown",
   "id": "7daf5d66-263c-4630-83bc-ab23b8dd4118",
   "metadata": {},
   "source": [
    "Calculates the average release year of the songs."
   ]
  },
  {
   "cell_type": "code",
   "execution_count": null,
   "id": "03f83e36-cb9f-4bb5-966c-e4f318816321",
   "metadata": {},
   "outputs": [],
   "source": [
    "average_year = top_songs_table['Year'].mean()\n",
    "print(\"Average year of release:\", average_year)"
   ]
  },
  {
   "cell_type": "markdown",
   "id": "42bf5bd4-b99e-4252-930a-0ee9ae2e57aa",
   "metadata": {},
   "source": [
    "### Display Top Songs From 1990 - 2001 Graphically"
   ]
  },
  {
   "cell_type": "markdown",
   "id": "a2521417-fa4b-4bed-82d3-368d7bad8d10",
   "metadata": {},
   "source": [
    "Create a histogram to visualize the distribution of top songs by release year."
   ]
  },
  {
   "cell_type": "code",
   "execution_count": null,
   "id": "69529e8b-012b-4840-9a47-8189d7097b85",
   "metadata": {},
   "outputs": [],
   "source": [
    "top_songs_table['Year'].plot(kind='hist', bins=range(1990, 2001), edgecolor='black')\n",
    "plt.xlabel('Year')\n",
    "plt.ylabel('Number of Top Songs')\n",
    "plt.title('Distribution of Top Songs by Year')\n",
    "plt.grid(True)\n",
    "plt.show()"
   ]
  },
  {
   "cell_type": "markdown",
   "id": "e2ccb473-469f-4cdc-9323-d408ae6b6c67",
   "metadata": {},
   "source": [
    "## Working With Documents"
   ]
  },
  {
   "cell_type": "markdown",
   "id": "99b02066-d0f2-42d8-b80b-c7f692390bd5",
   "metadata": {},
   "source": [
    "Python offers several libraries for working with documents, with one of the most popular being python-docx. This library allows you to create, read, and update Microsoft Word documents (.docx) programmatically."
   ]
  },
  {
   "cell_type": "markdown",
   "id": "49e5ffe9-3315-4276-8dfa-3cc9dd129c51",
   "metadata": {},
   "source": [
    "### Creating Documents"
   ]
  },
  {
   "cell_type": "markdown",
   "id": "9e03be4f-3ccb-4951-a14b-5b5cffecc6a9",
   "metadata": {},
   "source": [
    " Creating new documents."
   ]
  },
  {
   "cell_type": "code",
   "execution_count": null,
   "id": "16568810-bbca-4a9f-9522-8964ab44f7d0",
   "metadata": {},
   "outputs": [],
   "source": [
    "from docx import Document\n",
    "\n",
    "# Creating a new Word document\n",
    "doc = Document()\n",
    "doc.add_paragraph('Hello, world!')\n",
    "doc.save('document.docx')\n",
    "print(\"Document Saved!\")"
   ]
  },
  {
   "cell_type": "markdown",
   "id": "56c536cd-62de-456f-b899-3875318a3eef",
   "metadata": {},
   "source": [
    "### Reading Documents"
   ]
  },
  {
   "cell_type": "markdown",
   "id": "a070e3b5-1978-4183-94d7-cd1d9816f61e",
   "metadata": {},
   "source": [
    "Reading the contents of a document."
   ]
  },
  {
   "cell_type": "code",
   "execution_count": null,
   "id": "d425aa1b-3b75-4993-bfa1-7bf7de1b52dc",
   "metadata": {},
   "outputs": [],
   "source": [
    "# Reading from a Word document\n",
    "existing_doc = Document('document.docx')\n",
    "for paragraph in existing_doc.paragraphs:\n",
    "    print(paragraph.text)"
   ]
  },
  {
   "cell_type": "markdown",
   "id": "dc79471a-5ae5-4516-99fd-04532d0fd14a",
   "metadata": {},
   "source": [
    "### Updating Documents"
   ]
  },
  {
   "cell_type": "markdown",
   "id": "0136a85e-c2be-4853-ac92-2769e0d1acf4",
   "metadata": {},
   "source": [
    "Updating the document with some new context."
   ]
  },
  {
   "cell_type": "code",
   "execution_count": 42,
   "id": "c54921ad-7e86-4213-8201-4f666a09f05b",
   "metadata": {},
   "outputs": [],
   "source": [
    "# Updating a Word document\n",
    "for paragraph in existing_doc.paragraphs:\n",
    "    if 'old text' in paragraph.text:\n",
    "        paragraph.text = paragraph.text.replace('old text', 'new text')\n",
    "existing_doc.save('updated_document.docx')"
   ]
  },
  {
   "cell_type": "markdown",
   "id": "7db502ca-fa3f-492a-a4ac-196d7a31774b",
   "metadata": {},
   "source": [
    "## Working With JSON"
   ]
  },
  {
   "cell_type": "markdown",
   "id": "e1997558-5c86-4d21-8c2c-9a778d48e1ea",
   "metadata": {},
   "source": [
    "JSON (JavaScript Object Notation) is a lightweight data-interchange format. Python includes built-in support for working with JSON through the json module. You can use it to parse JSON strings into Python objects and serialize Python objects into JSON strings."
   ]
  },
  {
   "cell_type": "markdown",
   "id": "8bec6e85-6642-4464-8cb9-db30d387dcb2",
   "metadata": {},
   "source": [
    "### Parsing JSON"
   ]
  },
  {
   "cell_type": "markdown",
   "id": "8e0d32d8-203d-49eb-b046-6798bf360958",
   "metadata": {},
   "source": [
    "Parsing a JSON string to be used as an object."
   ]
  },
  {
   "cell_type": "code",
   "execution_count": null,
   "id": "edc2346b-dcf2-4841-a92c-4d264cdfc508",
   "metadata": {},
   "outputs": [],
   "source": [
    "import json\n",
    "\n",
    "# Parsing JSON\n",
    "json_string = '{\"name\": \"John\", \"age\": 30, \"city\": \"New York\"}'\n",
    "data = json.loads(json_string)\n",
    "print(data['name'])"
   ]
  },
  {
   "cell_type": "markdown",
   "id": "6621ec84-9b30-405e-abf9-d6fd86d5727e",
   "metadata": {},
   "source": [
    "### Reading JSON"
   ]
  },
  {
   "cell_type": "markdown",
   "id": "1f14bbe4-e4f6-4a43-8d6d-2980520dbd3a",
   "metadata": {},
   "source": [
    "Serializing a dictionary to use formatted as a JSON string."
   ]
  },
  {
   "cell_type": "code",
   "execution_count": null,
   "id": "eb0935f1-58a5-4591-9d1b-2f07fa7320d3",
   "metadata": {},
   "outputs": [],
   "source": [
    "# Serializing to JSON\n",
    "data = {'name': 'Alice', 'age': 25, 'city': 'Los Angeles'}\n",
    "json_string = json.dumps(data)\n",
    "print(json_string)"
   ]
  },
  {
   "cell_type": "markdown",
   "id": "7664f5a5-d132-4bc2-9888-6b791ab4f2c6",
   "metadata": {},
   "source": [
    "Python's rich ecosystem of libraries makes it a powerful tool for various tasks, including data processing, document manipulation, and web development. Whether you're a beginner or an experienced developer, Python provides the tools you need to get the job done efficiently. \r\n",
    "This introduction covers the basics of working with CSV files, documents, and JSON in Python, providing examples for each topic. You can expand upon these concepts further based on your specific needs and interests.\r\n",
    "\r\n",
    "\r\n"
   ]
  }
 ],
 "metadata": {
  "kernelspec": {
   "display_name": "anaconda-panel-2023.05-py310",
   "language": "python",
   "name": "conda-env-anaconda-panel-2023.05-py310-py"
  },
  "language_info": {
   "codemirror_mode": {
    "name": "ipython",
    "version": 3
   },
   "file_extension": ".py",
   "mimetype": "text/x-python",
   "name": "python",
   "nbconvert_exporter": "python",
   "pygments_lexer": "ipython3",
   "version": "3.11.5"
  }
 },
 "nbformat": 4,
 "nbformat_minor": 5
}
