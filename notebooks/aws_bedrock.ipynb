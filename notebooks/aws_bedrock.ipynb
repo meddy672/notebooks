{
 "cells": [
  {
   "cell_type": "markdown",
   "id": "1f42b856-6cd2-4cdf-a1ba-e609123c0e0b",
   "metadata": {},
   "source": [
    "# Amazon Bedrock SDK Examples"
   ]
  },
  {
   "cell_type": "markdown",
   "id": "ad93ca27-aeef-47fe-8b91-dcbc82ed5824",
   "metadata": {},
   "source": [
    "Amazon Bedrock is a fully managed service that offers a choice of high-performing foundation models (FMs) from leading AI companies like AI21 Labs, Anthropic, Cohere, Meta, Mistral AI, Stability AI, and Amazon via a single API, along with a broad set of capabilities you need to build generative AI applications with security, privacy, and responsible AI.\n",
    "\n",
    "- Example 1 - Text Generation\n",
    "- Example 2 - Text Summarization\n",
    "- Example 3 - Code Generation\n",
    "- Example 4 - Image Generation"
   ]
  },
  {
   "cell_type": "markdown",
   "id": "f7da4cea-119c-4c59-971e-852713490dc4",
   "metadata": {},
   "source": [
    "### Required Packages"
   ]
  },
  {
   "cell_type": "code",
   "execution_count": 170,
   "id": "5c74fc7b",
   "metadata": {
    "height": 47
   },
   "outputs": [],
   "source": [
    "import boto3\n",
    "import json\n",
    "import csv\n",
    "import sys\n",
    "import base64\n",
    "import io\n",
    "from PIL import Image\n",
    "import matplotlib.pyplot as plt\n",
    "from collections import defaultdict"
   ]
  },
  {
   "cell_type": "markdown",
   "id": "64361ba9-7b91-421e-a26c-d23f50f4c6dd",
   "metadata": {},
   "source": [
    "### Setup Bedrock Instance\n",
    "The **bedrock_runtime** is an instance of AWS Bedrock and has access to bedrock methods such as `invoke_model`"
   ]
  },
  {
   "cell_type": "code",
   "execution_count": 171,
   "id": "887b8bc3",
   "metadata": {
    "height": 47
   },
   "outputs": [],
   "source": [
    "bedrock_runtime = boto3.client('bedrock-runtime', region_name='us-east-1')"
   ]
  },
  {
   "cell_type": "markdown",
   "id": "417a6b99-4183-43fe-8eca-f6ad4be714de",
   "metadata": {},
   "source": [
    "### Example 1 - Text Generation\n",
    "Most user prompts execute Zero-shot, which means you provide no additional examples or details. With zero-shot learning, a pretrained LLM can responsed to effectively to tasks that it hasn’t been specifically trained for."
   ]
  },
  {
   "cell_type": "markdown",
   "id": "dd258bc4-c474-4bc3-b8a2-d86ec113cd51",
   "metadata": {},
   "source": [
    "##### Create Prompt"
   ]
  },
  {
   "cell_type": "code",
   "execution_count": 172,
   "id": "09de166f",
   "metadata": {
    "height": 30
   },
   "outputs": [],
   "source": [
    "prompt = \"Write a summary of Las Vegas.\""
   ]
  },
  {
   "cell_type": "markdown",
   "id": "839a3596-77fa-4a24-beac-430efacb55cf",
   "metadata": {},
   "source": [
    "##### Create Request Body\n",
    "Format the request for the `invoke_model` method. **modelId** and **body**."
   ]
  },
  {
   "cell_type": "code",
   "execution_count": 173,
   "id": "8b6e20f2-6f5d-4f25-9eca-15ebd98c1bc6",
   "metadata": {
    "height": 268
   },
   "outputs": [],
   "source": [
    "kwargs = {\n",
    "    \"modelId\": \"amazon.titan-tg1-large\",\n",
    "    \"contentType\": \"application/json\",\n",
    "    \"accept\": \"*/*\",\n",
    "    \"body\" : json.dumps(\n",
    "        {\n",
    "            \"inputText\": prompt,\n",
    "            \"textGenerationConfig\": {\n",
    "                \"maxTokenCount\": 500,\n",
    "                \"temperature\": 0.7,\n",
    "                \"topP\": 0.9\n",
    "            }\n",
    "        }\n",
    "    )\n",
    "}"
   ]
  },
  {
   "cell_type": "markdown",
   "id": "bf951c37-ec15-4bba-8eb6-8efdc941eb37",
   "metadata": {},
   "source": [
    "##### Send Request & Print Response\n",
    "Send the request by calling the `invoke_model` method on the bedrock instance."
   ]
  },
  {
   "cell_type": "code",
   "execution_count": 174,
   "id": "20399cd0-99c5-4458-9cb0-d511a3b03741",
   "metadata": {
    "height": 98
   },
   "outputs": [
    {
     "name": "stdout",
     "output_type": "stream",
     "text": [
      "\n",
      "Las Vegas is a resort city in Nevada, famous for its gambling, shopping, entertainment, and nightlife. It is located in the Mojave Desert and is known for its luxurious casinos, hotels, and restaurants. Las Vegas is also a popular destination for conventions and conferences, with many of the world's largest hotels and convention centers located there. The city has a rich history, with its roots dating back to the 19th century when it was a small mining town. Today, Las Vegas is a global hub for tourism and entertainment, attracting millions of visitors each year.\n"
     ]
    }
   ],
   "source": [
    "response = bedrock_runtime.invoke_model(**kwargs)\n",
    "response_body = json.loads(response.get('body').read())\n",
    "\n",
    "generation = response_body['results'][0]['outputText']\n",
    "print(generation)"
   ]
  },
  {
   "cell_type": "markdown",
   "id": "93efa22f",
   "metadata": {},
   "source": [
    "### Example 2 - Summarize Audio Transcript\n",
    "Using Amazon Bedrock to summarize longer text. Summarization works by sending a prompt instruction to the model."
   ]
  },
  {
   "cell_type": "markdown",
   "id": "8a752f11-4671-45f9-81a2-4e9f1b2f7076",
   "metadata": {},
   "source": [
    "##### Load Audio File Context\n",
    "The transcript of the audio file has been downloaded and saved as transcript.txt."
   ]
  },
  {
   "cell_type": "code",
   "execution_count": 175,
   "id": "7f494d3e",
   "metadata": {
    "height": 47
   },
   "outputs": [],
   "source": [
    "with open('../assets/transcript.txt', \"r\") as file:\n",
    "    dialogue_text = file.read()"
   ]
  },
  {
   "cell_type": "markdown",
   "id": "17a15ed7-f8f3-4e9f-928a-d76c94d61e65",
   "metadata": {
    "height": 30
   },
   "source": [
    "##### Create Prompt\n",
    "In this example, we place the file transcript within the tag <transcript></transcript>. This allows us to format the instructions for the model."
   ]
  },
  {
   "cell_type": "code",
   "execution_count": 176,
   "id": "4ad6bd54",
   "metadata": {
    "height": 166
   },
   "outputs": [],
   "source": [
    "prompt = f\"\"\"The text between the <transcript> XML tags is a transcript of a conversation. \n",
    "Write a short summary of the conversation.\n",
    "\n",
    "<transcript>\n",
    "{dialogue_text}\n",
    "</transcript>\n",
    "\n",
    "Here is a summary of the conversation in the transcript:\"\"\""
   ]
  },
  {
   "cell_type": "code",
   "execution_count": 177,
   "id": "3a4e8336",
   "metadata": {
    "height": 30
   },
   "outputs": [
    {
     "name": "stdout",
     "output_type": "stream",
     "text": [
      "The text between the <transcript> XML tags is a transcript of a conversation. \n",
      "Write a short summary of the conversation.\n",
      "\n",
      "<transcript>\n",
      "spk_0: Hi, is this the Crystal Heights Hotel in Singapore? \n",
      "spk_1: Yes, it is. Good afternoon. How may I assist you today? \n",
      "spk_0: Fantastic, good afternoon. I was looking to book a room for my 10th wedding anniversary. Ive heard your hotel offers exceptional views and services. Could you tell me more? \n",
      "spk_1: Absolutely, Alex and congratulations on your upcoming anniversary. Thats a significant milestone and wed be honored to make it a special occasion for you. We have several room types that offer stunning views of the city skyline and the fictional Sapphire Bay. Our special diamond suite even comes with exclusive access to the moonlit pool and star deck. We also have in house spa services, world class dining options and a shopping arcade. \n",
      "spk_0: That sounds heavenly. I think my spouse would love the moonlit pool. Can you help me make a reservation for one of your diamond suites with a sapphire bay view? \n",
      "spk_1: Of course. May I know the dates you planning to visit? \n",
      "spk_0: Sure. It would be from October 10th to 17th. \n",
      "spk_1: Excellent. Let me check the availability. Ah It looks like we have a diamond suite available for those dates. Would you like to proceed with the reservation? \n",
      "spk_0: Definitely. Whats included in the package? \n",
      "spk_1: Wonderful. The package includes breakfast, complimentary access to the moonlit pool and star deck. A one time spa treatment for two and a special romantic dinner at our cloud nine restaurant. \n",
      "spk_0: You making it impossible to resist. Lets go ahead with the booking. \n",
      "spk_1: Great. I'll need some personal information for the reservation. Can I get your full name, contact details and a credit card for the preauthorizations? \n",
      "spk_0: Certainly. My full name is Alexander Thompson. My contact number is 12345678910. And the credit card is, wait, did you say pre authorization? How much would that be? \n",
      "spk_1: Ah, I should have mentioned that earlier. My apologies. A pre authorization amount of '$1000' will be held on your card which would be released upon checkout. \n",
      "spk_0: '$1000'. That seems a bit excessive. Don't you think \n",
      "spk_1: I understand your concern, Alex. The pre authorization is a standard procedure to cover any incidental expenses you may incur during your stay. However, I assure you its only a hold and not an actual charge. \n",
      "spk_0: Thats still a lot. Are there any additional charges that I should know about? \n",
      "spk_1: Well, there is a 10% service charge and a 7% fantasy tax applied to the room rate. \n",
      "spk_0: Mm. You know what its a special occasion. So lets go ahead. \n",
      "spk_1: Thank you, Alex for understanding. Will ensure that your experience at Crystal Heights is well worth it. \n",
      "</transcript>\n",
      "\n",
      "Here is a summary of the conversation in the transcript:\n"
     ]
    }
   ],
   "source": [
    "print(prompt)"
   ]
  },
  {
   "cell_type": "markdown",
   "id": "24c397d9-79c1-4566-ae41-da30a7daba59",
   "metadata": {},
   "source": [
    "##### Create Request Body"
   ]
  },
  {
   "cell_type": "code",
   "execution_count": 178,
   "id": "26853371",
   "metadata": {
    "height": 268
   },
   "outputs": [],
   "source": [
    "kwargs = {\n",
    "    \"modelId\": \"amazon.titan-tg1-large\",\n",
    "    \"contentType\": \"application/json\",\n",
    "    \"accept\": \"*/*\",\n",
    "    \"body\": json.dumps(\n",
    "        {\n",
    "            \"inputText\": prompt,\n",
    "            \"textGenerationConfig\": {\n",
    "                \"maxTokenCount\": 512,\n",
    "                \"temperature\": 0,\n",
    "                \"topP\": 0.9\n",
    "            }\n",
    "        }\n",
    "    )\n",
    "}"
   ]
  },
  {
   "cell_type": "markdown",
   "id": "a750a3a1-5e7a-4559-81b1-b1c68b84af26",
   "metadata": {},
   "source": [
    "##### Send Request & Print Response"
   ]
  },
  {
   "cell_type": "code",
   "execution_count": 179,
   "id": "6cb963a0",
   "metadata": {
    "height": 30
   },
   "outputs": [],
   "source": [
    "response = bedrock_runtime.invoke_model(**kwargs)"
   ]
  },
  {
   "cell_type": "code",
   "execution_count": 180,
   "id": "71429d89",
   "metadata": {
    "height": 47
   },
   "outputs": [
    {
     "name": "stdout",
     "output_type": "stream",
     "text": [
      "\n",
      "Alex is looking to book a room for his 10th wedding anniversary at the Crystal Heights Hotel in Singapore. The hotel offers several room types that offer stunning views of the city skyline and the fictional Sapphire Bay. The special diamond suite even comes with exclusive access to the moonlit pool and star deck. The package includes breakfast, complimentary access to the moonlit pool and star deck, a one-time spa treatment for two, and a special romantic dinner at the cloud nine restaurant. A preauthorization amount of $1000 will be held on the card, which will be released upon checkout. There is a 10% service charge and a 7% fantasy tax applied to the room rate.\n"
     ]
    }
   ],
   "source": [
    "response_body = json.loads(response.get('body').read())\n",
    "generation = response_body['results'][0]['outputText']\n",
    "print(generation)"
   ]
  },
  {
   "cell_type": "markdown",
   "id": "72e50bbd-8852-402d-9a9f-f8f69dec4e11",
   "metadata": {},
   "source": [
    "### Example 3 - Code Generation\n",
    "We can also use AWS Bedrock to generate code to solve business problems."
   ]
  },
  {
   "cell_type": "markdown",
   "id": "a31fb1d7-6ed1-4dee-8e45-81e2567e6b68",
   "metadata": {},
   "source": [
    "##### Create Sales Data"
   ]
  },
  {
   "cell_type": "code",
   "execution_count": 181,
   "id": "6f876465-7b88-4bf3-84ae-42d41e530d47",
   "metadata": {},
   "outputs": [],
   "source": [
    "data = [\n",
    "    [\"date\", \"product_id\", \"price\", \"units_sold\"],\n",
    "    [\"2023-01-01\", \"P001\", 50, 20],\n",
    "    [\"2023-01-02\", \"P002\", 60, 15],\n",
    "    [\"2023-01-03\", \"P001\", 50, 18],\n",
    "    [\"2023-01-04\", \"P003\", 70, 30],\n",
    "    [\"2023-01-05\", \"P001\", 50, 25],\n",
    "    [\"2023-01-06\", \"P002\", 60, 22],\n",
    "    [\"2023-01-07\", \"P003\", 70, 24],\n",
    "    [\"2023-01-08\", \"P001\", 50, 28],\n",
    "    [\"2023-01-09\", \"P002\", 60, 17],\n",
    "    [\"2023-01-10\", \"P003\", 70, 29],\n",
    "    [\"2023-02-11\", \"P001\", 50, 23],\n",
    "    [\"2023-02-12\", \"P002\", 60, 19],\n",
    "    [\"2023-02-13\", \"P001\", 50, 21],\n",
    "    [\"2023-02-14\", \"P003\", 70, 31],\n",
    "    [\"2023-03-15\", \"P001\", 50, 26],\n",
    "    [\"2023-03-16\", \"P002\", 60, 20],\n",
    "    [\"2023-03-17\", \"P003\", 70, 33],\n",
    "    [\"2023-04-18\", \"P001\", 50, 27],\n",
    "    [\"2023-04-19\", \"P002\", 60, 18],\n",
    "    [\"2023-04-20\", \"P003\", 70, 32],\n",
    "    [\"2023-04-21\", \"P001\", 50, 22],\n",
    "    [\"2023-04-22\", \"P002\", 60, 16],\n",
    "    [\"2023-04-23\", \"P003\", 70, 34],\n",
    "    [\"2023-05-24\", \"P001\", 50, 24],\n",
    "    [\"2023-05-25\", \"P002\", 60, 21]\n",
    "]"
   ]
  },
  {
   "cell_type": "markdown",
   "id": "c37f77ea-8b66-4a64-b438-63a46e1cfa12",
   "metadata": {},
   "source": [
    "##### Write Data To CSV File"
   ]
  },
  {
   "cell_type": "code",
   "execution_count": 182,
   "id": "295a2ea5-264a-4b1a-81c1-4d09be619c38",
   "metadata": {},
   "outputs": [
    {
     "name": "stdout",
     "output_type": "stream",
     "text": [
      "sales.csv has been created!\n"
     ]
    }
   ],
   "source": [
    "# Write data to sales.csv\n",
    "with open('sales.csv', 'w', newline='') as csvfile:\n",
    "    writer = csv.writer(csvfile)\n",
    "    writer.writerows(data)\n",
    "\n",
    "print(\"sales.csv has been created!\")"
   ]
  },
  {
   "cell_type": "markdown",
   "id": "9f53bfef-7152-4b54-a864-418f02ad3093",
   "metadata": {},
   "source": [
    "##### Create Prompt"
   ]
  },
  {
   "cell_type": "code",
   "execution_count": 183,
   "id": "50e79686-6fda-4685-a8bc-a424479af038",
   "metadata": {},
   "outputs": [],
   "source": [
    "prompt_data = \"\"\"\n",
    "\n",
    "Human: You have a CSV, sales.csv, with columns:\n",
    "- date (YYYY-MM-DD)\n",
    "- product_id\n",
    "- price\n",
    "- units_sold\n",
    "\n",
    "Create a python program to analyze the sales data from a CSV file. The program should be able to read the data, and determine below:\n",
    "\n",
    "- Total revenue for the year\n",
    "- The product with the highest revenue\n",
    "- The date with the highest revenue\n",
    "- Visualize monthly sales using a bar chart\n",
    "\n",
    "Ensure the code is syntactically correct, bug-free, optimized, do not span multiple lines unnessarily, and prefer to use standard libraries. If using the python pandas library then use the pandas object whn calling the plot method. Example: `pd.plot()`. Return only python code without any surrounding text, explanation or context.\n",
    "\n",
    "Assistant:\n",
    "\"\"\""
   ]
  },
  {
   "cell_type": "markdown",
   "id": "39a35578-4c20-4c8c-94b3-55827ee11a30",
   "metadata": {},
   "source": [
    "##### Prepare Prompt For Request"
   ]
  },
  {
   "cell_type": "code",
   "execution_count": 184,
   "id": "17483ead-cb80-4dcc-9ac8-b8bd6dd2e6b5",
   "metadata": {},
   "outputs": [],
   "source": [
    "body = json.dumps({\n",
    "                    \"prompt\": prompt_data,\n",
    "                    \"max_tokens_to_sample\":4096,\n",
    "                    \"temperature\":0.5,\n",
    "                    \"top_k\":250,\n",
    "                    \"top_p\":0.5,\n",
    "                    \"stop_sequences\": [\"\\n\\nHuman:\"]\n",
    "                  }) "
   ]
  },
  {
   "cell_type": "markdown",
   "id": "6439e03f-f043-4001-aaba-c499fd368857",
   "metadata": {},
   "source": [
    "##### Create Request Body"
   ]
  },
  {
   "cell_type": "code",
   "execution_count": 185,
   "id": "fe95b3f1-5973-494c-b380-f2b1e7c2e7cc",
   "metadata": {},
   "outputs": [],
   "source": [
    "kwargs = {\n",
    "    \"modelId\": \"amazon.titan-tg1-large\",\n",
    "    \"contentType\": \"application/json\",\n",
    "    \"accept\": \"*/*\",\n",
    "    \"body\": json.dumps(\n",
    "        {\n",
    "            \"inputText\": body,\n",
    "            \"textGenerationConfig\": {\n",
    "                \"maxTokenCount\": 512,\n",
    "                \"temperature\": 0,\n",
    "                \"topP\": 0.9\n",
    "            }\n",
    "        }\n",
    "    )\n",
    "}"
   ]
  },
  {
   "cell_type": "markdown",
   "id": "1e562067-8120-42e8-93a4-639ba4054c23",
   "metadata": {},
   "source": [
    "##### Send Request & Print Response"
   ]
  },
  {
   "cell_type": "code",
   "execution_count": 186,
   "id": "b14f335d-5405-43d2-b874-6b4b6a9484d7",
   "metadata": {},
   "outputs": [],
   "source": [
    "response = bedrock_runtime.invoke_model(**kwargs)"
   ]
  },
  {
   "cell_type": "code",
   "execution_count": 187,
   "id": "2ef93487-3923-4d30-86dc-5bf060e99263",
   "metadata": {},
   "outputs": [
    {
     "name": "stdout",
     "output_type": "stream",
     "text": [
      "\n",
      "import pandas as pd\n",
      "\n",
      "# Read the CSV file and store it in a DataFrame\n",
      "df = pd.read_csv('sales.csv')\n",
      "\n",
      "# Calculate the total revenue for the year\n",
      "total_revenue = df['price'].sum()\n",
      "\n",
      "# Determine the product with the highest revenue\n",
      "highest_revenue_product = df['product_id'].max()\n",
      "\n",
      "# Determine the date with the highest revenue\n",
      "highest_revenue_date = df['date'].max()\n",
      "\n",
      "# Visualize monthly sales using a bar chart\n",
      "df.plot(kind='bar')\n",
      "\n",
      "# Display the results\n",
      "print(\"Total Revenue:\", total_revenue)\n",
      "print(\"Product with the Highest Revenue:\", highest_revenue_product)\n",
      "print(\"Date with the Highest Revenue:\", highest_revenue_date)\n",
      "\n"
     ]
    }
   ],
   "source": [
    "response_body = json.loads(response.get('body').read())\n",
    "generation = response_body['results'][0]['outputText']\n",
    "print(generation)"
   ]
  },
  {
   "cell_type": "markdown",
   "id": "aae7bec0-3c41-413e-b0ae-f3ec139c8bc7",
   "metadata": {},
   "source": [
    "##### Run Code"
   ]
  },
  {
   "cell_type": "code",
   "execution_count": 188,
   "id": "cc61bfb0-a2f7-452d-a594-fe9f69338fc1",
   "metadata": {},
   "outputs": [
    {
     "name": "stdout",
     "output_type": "stream",
     "text": [
      "Total Revenue: 1470\n",
      "Product with the Highest Revenue: P003\n",
      "Date with the Highest Revenue: 2023-05-25\n"
     ]
    },
    {
     "data": {
      "image/png": "[encoded data removed]",
      "text/plain": [
       "<Figure size 640x480 with 1 Axes>"
      ]
     },
     "metadata": {},
     "output_type": "display_data"
    }
   ],
   "source": [
    "import pandas as pd\n",
    "\n",
    "# Read the CSV file and store it in a DataFrame\n",
    "df = pd.read_csv('sales.csv')\n",
    "\n",
    "# Calculate the total revenue for the year\n",
    "total_revenue = df['price'].sum()\n",
    "\n",
    "# Determine the product with the highest revenue\n",
    "highest_revenue_product = df['product_id'].max()\n",
    "\n",
    "# Determine the date with the highest revenue\n",
    "highest_revenue_date = df['date'].max()\n",
    "\n",
    "# Visualize monthly sales using a bar chart\n",
    "df.plot(kind='bar')\n",
    "\n",
    "# Display the results\n",
    "print(\"Total Revenue:\", total_revenue)\n",
    "print(\"Product with the Highest Revenue:\", highest_revenue_product)\n",
    "print(\"Date with the Highest Revenue:\", highest_revenue_date)"
   ]
  },
  {
   "cell_type": "markdown",
   "id": "a4c9514a-9411-4c9f-86c7-ddb83c4382ec",
   "metadata": {},
   "source": [
    "### Image Generation"
   ]
  },
  {
   "cell_type": "code",
   "execution_count": 189,
   "id": "daabf4e4-d265-4ff6-bea8-09d95cfb4bab",
   "metadata": {},
   "outputs": [],
   "source": [
    "prompt_data = \"The city cafe.\""
   ]
  },
  {
   "cell_type": "code",
   "execution_count": 190,
   "id": "ef04044c-4ad1-4e11-a4f7-950bb005a3ca",
   "metadata": {},
   "outputs": [],
   "source": [
    "body=json.dumps({\n",
    "    \"text_prompts\": [\n",
    "        {\n",
    "          \"text\": prompt_data\n",
    "        }\n",
    "    ],\n",
    "        \"cfg_scale\": 10,\n",
    "        \"seed\": 0,\n",
    "        \"steps\": 50,\n",
    "        \"samples\" : 1,\n",
    "        \"style_preset\" : \"photographic\"\n",
    "})"
   ]
  },
  {
   "cell_type": "code",
   "execution_count": 191,
   "id": "d7d31342-b65f-42a4-a73f-f2e33b584526",
   "metadata": {},
   "outputs": [],
   "source": [
    "kwargs = {\n",
    "    \"modelId\": \"stability.stable-diffusion-xl-v1\",\n",
    "    \"contentType\": \"application/json\",\n",
    "    \"accept\": \"*/*\",\n",
    "    \"body\": body\n",
    "}"
   ]
  },
  {
   "cell_type": "code",
   "execution_count": 192,
   "id": "1f15a8f3-9c6f-49bc-b940-96ec9d2bd7f3",
   "metadata": {},
   "outputs": [
    {
     "name": "stdout",
     "output_type": "stream",
     "text": [
      "success\n"
     ]
    }
   ],
   "source": [
    "response = bedrock_runtime.invoke_model(**kwargs)\n",
    "response_body = json.loads(response.get(\"body\").read())\n",
    "print(response_body['result'])"
   ]
  },
  {
   "cell_type": "code",
   "execution_count": 193,
   "id": "f8f43456-cc20-41d2-b38f-7c4d0a139d4a",
   "metadata": {},
   "outputs": [],
   "source": [
    "base64_image = response_body.get(\"artifacts\")[0].get(\"base64\")\n",
    "base64_bytes = base64_image.encode('ascii')\n",
    "image_bytes = base64.b64decode(base64_bytes)\n",
    "\n",
    "finish_reason = response_body.get(\"artifacts\")[0].get(\"finishReason\")\n",
    "\n",
    "if finish_reason == 'ERROR' or finish_reason == 'CONTENT_FILTERED':\n",
    "    raise ImageError(f\"Image generation error. Error code is {finish_reason}\")\n",
    "\n",
    "image = Image.open(io.BytesIO(image_bytes))\n",
    "image.show()"
   ]
  },
  {
   "cell_type": "markdown",
   "id": "b3bb94c1-cbe1-4478-9d09-09dc76911669",
   "metadata": {},
   "source": [
    "### References"
   ]
  },
  {
   "cell_type": "markdown",
   "id": "bdde2d7d-ad40-4f17-8291-be7ac000dabd",
   "metadata": {},
   "source": [
    "[AWS Skill Builder](https://explore.skillbuilder.aws/learn)\n",
    "\n",
    "[Pretained Models](https://docs.aws.amazon.com/bedrock/latest/userguide/models-supported.html)"
   ]
  }
 ],
 "metadata": {
  "kernelspec": {
   "display_name": "Python 3 (ipykernel)",
   "language": "python",
   "name": "python3"
  },
  "language_info": {
   "codemirror_mode": {
    "name": "ipython",
    "version": 3
   },
   "file_extension": ".py",
   "mimetype": "text/x-python",
   "name": "python",
   "nbconvert_exporter": "python",
   "pygments_lexer": "ipython3",
   "version": "3.10.6"
  }
 },
 "nbformat": 4,
 "nbformat_minor": 5
}
